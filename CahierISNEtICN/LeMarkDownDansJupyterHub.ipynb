{
 "cells": [
  {
   "cell_type": "markdown",
   "metadata": {},
   "source": [
    "# De l'aide au markdown en ligne à un cahier memo\n",
    "\n",
    "Ce cahier ne contient en fait que ce que le site Github livre comme manuel du markdown\n",
    "\n",
    "on accède à l'[aide en ligne](https://help.github.com/articles/basic-writing-and-formatting-syntax/) grâce au lien dans le menu Help comme le montre l'illustration ci-dessous.\n",
    "\n",
    "![Menu déroulant hep](images/AccesMarkdown.jpg)\n",
    "                                \n",
    "![licence](images/Licence.jpg)\n",
    "\n"
   ]
  },
  {
   "cell_type": "markdown",
   "metadata": {},
   "source": [
    "# Les balises de titre : des \"#\" comme indicateurs\n",
    "\n",
    "## Avec deux \"##\" on a un sous titre \n",
    "\n",
    "###### Avec cinq \"######\" on a un sousousousousous titre.\n"
   ]
  },
  {
   "cell_type": "markdown",
   "metadata": {
    "collapsed": true
   },
   "source": [
    "# Les éléments d'enrichissement du texte ou de la *graisse* \n",
    "\n",
    "**Le gras** s'obtient avec la balise \\*\\*gras\\*\\*\n",
    "\n",
    "*l'italique* s'obtient avec la balise \\*italique\\*\n",
    "\n",
    "~~Le rayé~~ s'obtient avec la balise \\~~rayé\\~~\n",
    "\n",
    "Le **_gras italique_** s'obtient avec la balise \\*\\*\\_gras italique\\_\\*\\*\n",
    "\n",
    "Acquérir les automatismes en *MarkDown* repose sur une utilisation régulière. "
   ]
  },
  {
   "cell_type": "markdown",
   "metadata": {},
   "source": [
    "# Une façon de mettre en relief une consigne \n",
    "\n",
    "> Pour parvenir à réaliser l'exercice vous devez suivre cette consigne : \n",
    ">\n",
    "> prenez le temps de réfléchir"
   ]
  },
  {
   "cell_type": "markdown",
   "metadata": {},
   "source": [
    "# La mise en \"exergue\" du code \n",
    "\n",
    "On obtient l'effet de surligné pour le `code` en insérant la balise `code`\n",
    "\n",
    "On peut aussi encadrer un fragment de code comme sur l'exemple ci-dessous :\n",
    "\n",
    "``` \n",
    "#les commandes dans github sont par exemple \n",
    "\n",
    "git status\n",
    "git checkout\n",
    "git add \n",
    "```\n",
    "\n",
    "Mais le plus joli c'est de récupérer les codes en couleur contextuelle \n",
    "\n",
    "```python\n",
    "print(\"Vous êtes dans un cahier de programme du projet Météo et Climat : Tremplin pour l'enseigneent des Sciences\")\n",
    "for i in range(4):\n",
    "    print(\"bravo\")\n",
    "    print(\"bonne lecture … \",\";\",end='')\n",
    "```\n",
    "ou avec un autre langage \n",
    "\n",
    "```ruby\n",
    "require 'redcarpet'\n",
    "markdown = Redcarpet.new(\"Hello World!\")\n",
    "puts markdown.to_html\n",
    "```\n",
    "\n"
   ]
  },
  {
   "cell_type": "code",
   "execution_count": 5,
   "metadata": {},
   "outputs": [
    {
     "name": "stdout",
     "output_type": "stream",
     "text": [
      "Vous êtes dans un cahier de programme du projet Météo et Climat : Tremplin pour l'enseigneent des Sciences\n",
      "bravo\n",
      "bonne lecture …  ;bravo\n",
      "bonne lecture …  ;bravo\n",
      "bonne lecture …  ;bravo\n",
      "bonne lecture …  ;"
     ]
    }
   ],
   "source": [
    "# un simple copier coller du code dans un champ \"python\" permet son execution sans erreurs.\n",
    "print(\"Vous êtes dans un cahier de programme du projet Météo et Climat : Tremplin pour l'enseigneent des Sciences\")\n",
    "for i in range(4):\n",
    "    print(\"bravo\")\n",
    "    print(\"bonne lecture … \",\";\",end='')"
   ]
  },
  {
   "cell_type": "markdown",
   "metadata": {},
   "source": [
    "# Les liens vers les sites ....\n",
    "\n",
    "Rien de plus simple que de créer un [lien](http://stsaens-lyc.spip.ac-rouen.fr/)\n",
    "\n",
    "mais on peut encore faire plus simple http://stsaens-lyc.spip.ac-rouen.fr/\n"
   ]
  },
  {
   "cell_type": "markdown",
   "metadata": {
    "collapsed": true
   },
   "source": [
    "# On peut envisager de créer un sommaire du dossier contenant le livret\n",
    "\n",
    "par exemple ce livret est rangé das un dossier qui contient des images et des ipynb \n",
    "\n",
    "on pourrait envisager cela : \n",
    "\n",
    "[images](images) : Utilisez le lien pour acccéder aux images du dossier.\n",
    "\n",
    "- [Livret : géolocalisation](Geolocalisation.ipynb) : Utilisez le lien pour ouvrir le livret géolocalisation\n",
    "\n",
    "- [Livret : Chapitre 1 poly Amiens](CahierChapitre1PolyPythonEdu.ipynb) : Utilisez le lien pour ouvrir le livret Chapitre 1 poly Amiens\n",
    "\n",
    "- [Livret : livret raccourcis et bibliothèque Latex](LaTexEtJupyter.ipynb) :Utilisez le lien pour ouvrir le livret De bibliothèques Latex\n",
    "\n",
    "Ce type d'accès permet de quider les eleves vers un fichier que vous voulez leur faire ouvrir pour consultation. Comme tout le monde ouvre le même fichier dans le même dossier ** il faut absolument que chaque élève renomme son fichier **\n"
   ]
  },
  {
   "cell_type": "markdown",
   "metadata": {},
   "source": [
    "# La mise en place de structure pour nos livrets\n",
    "\n",
    "Les titres, les sous-titres et les listes permettent d'approcher une présentation proche de ce que nous obtenons avec un éditeur de texte classique. \n",
    "\n",
    "## Introduction :\n",
    "\n",
    "## Chapitre 1 \n",
    "\n",
    "### 1.1 Point 1\n",
    "    1.1.1- paragraphe 1\n",
    "    1.1.2- paragraphe 2\n",
    "    1.1.3- paragraphe 3\n",
    "### 1.2 Point 2\n",
    "    1.2.1- paragraphe 1\n",
    "    1.2.2- paragraphe 2\n",
    "    1.2.3- paragraphe 3\n",
    "### 1.3 Point 3\n",
    "    1.3.1- paragraphe 1\n",
    "    1.3.2- paragraphe 2\n",
    "    1.3.3- paragraphe 3\n",
    "\n",
    "## Chapitre 2 \n",
    "\n",
    "### 2.1 Point 1\n",
    "    2.1.1- paragraphe 1\n",
    "    2.1.2- paragraphe 2\n",
    "    2.1.3- paragraphe 3\n",
    "### 2.2 Point 2\n",
    "    2.2.1- paragraphe 1\n",
    "    2.2.2- paragraphe 2\n",
    "    2.2.3- paragraphe 3\n",
    "### 2.3 Point 3\n",
    "    2.3.1- paragraphe 1\n",
    "    2.3.2- paragraphe 2\n",
    "    2.3.3- paragraphe 3\n",
    "\n",
    "## Conclusion"
   ]
  },
  {
   "cell_type": "markdown",
   "metadata": {},
   "source": [
    "# Faire une liste de tâches \n",
    "\n",
    "il est possible de prévoir pour les élèves qu'ils cochent les cases des tâches à réaliser dans l'exercice \n",
    "\n",
    "- [ ] lire la consigne\n",
    "- [ ] rédiger en Markdown l'algorithme du programme\n",
    "- [ ] rédiger en python le programme \n",
    "- [ ] corriger les erreurs et noter leur nature"
   ]
  },
  {
   "cell_type": "markdown",
   "metadata": {},
   "source": [
    "# Structurer l'espace du champ de markdown avec les tableaux\n",
    "\n",
    "pour créer un tableau il suffit de saisir : \n",
    "\n",
    "| Première Entête   | Seconde Entête | Troisième Entête |\n",
    "| ----------------- | -------------- | ---------------- |\n",
    "| Valeur            | Valeur         | Valeur           |\n",
    "| Valeur            | Valeur         | Valeur           |\n",
    "\n",
    "il est donc possible d'assembler dans un espace tableau des illustrations. Cela permet de les titrer \n",
    "\n",
    "| L'imagette de licence by-NC-SA |\n",
    "| ------------------------------ |\n",
    "| ![Icone de licence](images/Licence.jpg) |\n"
   ]
  },
  {
   "cell_type": "markdown",
   "metadata": {},
   "source": [
    "# insersion d'un code \"video\" \n",
    "\n",
    "La solution élégante est d'utiliser une balise \"magique\" qui dans un champ python force l'interprétation en html.\n",
    "Cela donne l'exemple ci-dessous."
   ]
  },
  {
   "cell_type": "code",
   "execution_count": 1,
   "metadata": {},
   "outputs": [
    {
     "data": {
      "text/html": [
       "<html xmlns=\"http://www.w3.org/1999/xhtml\">\n",
       "<head>\n",
       "        <title>L'ENT Lea.hautenormandie.fr : Outils et Usages</title>\n",
       "        <link rel=\"stylesheet\" type=\"text/css\" href=\"http://mediaserv.climatetmeteo.fr/css/Gerard/docbook.css\"/>\n",
       "        <meta name=\"generator\" content=\"DocBook XSL Stylesheets V1.78.1\"/>\n",
       "        <meta name=\"description\" content=\"Ce livret présente l'ensemble des outils présents dans l'ENT lea.hautenormandie.fr Il est conçu pour décrire les apports des outils que l'ENT intégre aux démarches didactiques des enseignants. Il souligne pour chaque outil le domaine de l'accompagnement des élèves qu'il enrichi et/ou modifie. L'ENT Lea.hautenormandie.fr est structuré par le produit Nero développé par Pentila. Il est fait mention des éléments de type gestion de la scolarité qui peuvent lui être associé comme Sconet ou Pronotes.\"/>\n",
       "</head>\n",
       "<body>\n",
       "<h1>Exemple : Intégration d'une video</h1>\n",
       "<center>\n",
       "<figure id=\"d0e189\" class=\"video\" title=\"Figure&#160;1.1.&#160;&#xA; Connexion via Firefox\">\n",
       "                    <div class=\"figure\">\n",
       "                        <video width=\"400\" height=\"222\" controls=\"controls\" >\n",
       "                            <source src=\"videos/fairelappel.mp4\"/>\n",
       "                            <source src=\"videos/fairelappel.webm\"/>\n",
       "                        </video>\n",
       "                    </div>\n",
       "                    <div>\n",
       "                        <p class=\"copyright\"> Copyright 2017-06-04 Eric Le jan</p>\n",
       "                    </div>\n",
       "                    <div class=\"legalnotice\" title=\"Note Légale\">\n",
       "                        <p>Vidéo mise à disposition selon les termes de la LicenceCreative Commons Attribution - Pas d’Utilisation\n",
       "                        Commerciale - Partage dans les mêmes conditions 4.0International<span class=\"inlinemediaobject\">\n",
       "                                <img class=\"ccimage\" src=\"http://mediaserv.climatetmeteo.fr/users/EricLeJan/ENTPresentationBook/images/licence.png\" width=\"40\"/>\n",
       "                            </span>\n",
       "                        </p>\n",
       "                    </div>\n",
       "                    <figcaption>\n",
       "                        <span class=\"headerCaption\">Figure&#160;1.1.&#160;\n",
       "                    Faire l Appel en classe'</span>\n",
       "                        <p>Vous pouvez utiliser l'icone \"plein écran\" pour améliorer la lisibilité' </p>\n",
       "                        <p>\n",
       "                            <a class=\"link\" href=\"http://mediaserv.climatetmeteo.fr/users/EricLeJan/ENTPresentationBook/videos/connexionstation.mp4\" target=\"_top\">Lien</a> d'accès à la video pour le format pdf du\n",
       "                        document.</p>\n",
       "                    </figcaption>\n",
       "                </figure>\n",
       "</center>\n",
       "</body>"
      ],
      "text/plain": [
       "<IPython.core.display.HTML object>"
      ]
     },
     "metadata": {},
     "output_type": "display_data"
    }
   ],
   "source": [
    "%%html\n",
    "<html xmlns=\"http://www.w3.org/1999/xhtml\">\n",
    "<head>\n",
    "        <title>L'ENT Lea.hautenormandie.fr : Outils et Usages</title>\n",
    "        <link rel=\"stylesheet\" type=\"text/css\" href=\"http://mediaserv.climatetmeteo.fr/css/Gerard/docbook.css\"/>\n",
    "        <meta name=\"generator\" content=\"DocBook XSL Stylesheets V1.78.1\"/>\n",
    "        <meta name=\"description\" content=\"Ce livret présente l'ensemble des outils présents dans l'ENT lea.hautenormandie.fr Il est conçu pour décrire les apports des outils que l'ENT intégre aux démarches didactiques des enseignants. Il souligne pour chaque outil le domaine de l'accompagnement des élèves qu'il enrichi et/ou modifie. L'ENT Lea.hautenormandie.fr est structuré par le produit Nero développé par Pentila. Il est fait mention des éléments de type gestion de la scolarité qui peuvent lui être associé comme Sconet ou Pronotes.\"/>\n",
    "</head>\n",
    "<body>\n",
    "<h1>Exemple : Intégration d'une video</h1>\n",
    "<center>\n",
    "<figure id=\"d0e189\" class=\"video\" title=\"Figure&#160;1.1.&#160;&#xA; Connexion via Firefox\">\n",
    "                    <div class=\"figure\">\n",
    "                        <video width=\"400\" height=\"222\" controls=\"controls\" >\n",
    "                            <source src=\"videos/fairelappel.mp4\"/>\n",
    "                            <source src=\"videos/fairelappel.webm\"/>\n",
    "                        </video>\n",
    "                    </div>\n",
    "                    <div>\n",
    "                        <p class=\"copyright\"> Copyright 2017-06-04 Eric Le jan</p>\n",
    "                    </div>\n",
    "                    <div class=\"legalnotice\" title=\"Note Légale\">\n",
    "                        <p>Vidéo mise à disposition selon les termes de la LicenceCreative Commons Attribution - Pas d’Utilisation\n",
    "                        Commerciale - Partage dans les mêmes conditions 4.0International<span class=\"inlinemediaobject\">\n",
    "                                <img class=\"ccimage\" src=\"http://mediaserv.climatetmeteo.fr/users/EricLeJan/ENTPresentationBook/images/licence.png\" width=\"40\"/>\n",
    "                            </span>\n",
    "                        </p>\n",
    "                    </div>\n",
    "                    <figcaption>\n",
    "                        <span class=\"headerCaption\">Figure&#160;1.1.&#160;\n",
    "                    Faire l Appel en classe'</span>\n",
    "                        <p>Vous pouvez utiliser l'icone \"plein écran\" pour améliorer la lisibilité' </p>\n",
    "                        <p>\n",
    "                            <a class=\"link\" href=\"http://mediaserv.climatetmeteo.fr/users/EricLeJan/ENTPresentationBook/videos/connexionstation.mp4\" target=\"_top\">Lien</a> d'accès à la video pour le format pdf du\n",
    "                        document.</p>\n",
    "                    </figcaption>\n",
    "                </figure>\n",
    "</center>\n",
    "</body>"
   ]
  },
  {
   "cell_type": "markdown",
   "metadata": {},
   "source": [
    "# insersion d'un code \"video\"  une autre solution :\n",
    "\n",
    "On peut aussi faire appel aux widgets ipython. Par exemple en important le module html on peut faire une iframe de notre video."
   ]
  },
  {
   "cell_type": "code",
   "execution_count": 3,
   "metadata": {},
   "outputs": [
    {
     "data": {
      "text/html": [
       "<center><IFrame src=\"videos/fairelappel.mp4\" width=480 height=260></center>"
      ],
      "text/plain": [
       "<IPython.core.display.HTML object>"
      ]
     },
     "execution_count": 3,
     "metadata": {},
     "output_type": "execute_result"
    }
   ],
   "source": [
    "from IPython.display import HTML\n",
    "\n",
    "HTML('<center><IFrame src=\"videos/fairelappel.mp4\" width=480 height=260></center>')\n"
   ]
  },
  {
   "cell_type": "code",
   "execution_count": null,
   "metadata": {
    "collapsed": true
   },
   "outputs": [],
   "source": []
  }
 ],
 "metadata": {
  "kernelspec": {
   "display_name": "Python 3",
   "language": "python",
   "name": "python3"
  },
  "language_info": {
   "codemirror_mode": {
    "name": "ipython",
    "version": 3
   },
   "file_extension": ".py",
   "mimetype": "text/x-python",
   "name": "python",
   "nbconvert_exporter": "python",
   "pygments_lexer": "ipython3",
   "version": "3.5.3"
  }
 },
 "nbformat": 4,
 "nbformat_minor": 2
}
