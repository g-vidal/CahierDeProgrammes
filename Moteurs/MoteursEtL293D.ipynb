{
 "cells": [
  {
   "cell_type": "markdown",
   "metadata": {},
   "source": [
    "\n",
    "|  |\n",
    "| ------------------------------------------------------- | \n",
    "| ![Tremplin des sciences](images/tremplinColorSmall.png) | \n",
    "\n",
    "Cahier d'exercices pour l'enseignement et l'apprentissage de programmation issu de la collection \"Climat et météo tremplin pour l'enseignement des sciences\" (PIA IFÉ ENS de Lyon - Météofrance ENM Toulouse). Le dispositif clef en main repose sur l'utilisation d'une RaspberryPi chargée avec le système d'exploitation Debian enrichi, fourni par le projet. Les sources et les exécutables sont accessibles dans [l'espace collaboratif de la forge github](https://github.com/g-vidal/CahierDeProgrammes); plus d'information sur les [blogs d'accompagnement](http://blog.climatetmeteo.fr/GerardVidal/) systèmes d'exploitation sur [la page des OS  de Raspberries Pi](http://mediaserv.climatetmeteo.fr/images/RaspBerry/DebianStretchPi3/).  Toutes les ressources issues du projet sont fournies sous licence [Creative Commons](https://creativecommons.org/licenses/by-nc/4.0/) ou sous les licences libres d'origine des outils utilisés. Les ressources  du projet peuvent être utilisées dans tout autre environnement compatible.![Licence : Creative Commons](images/Licence.jpg) \n",
    "\n",
    "Auteurs : C-H. Eyraud, G. Vidal, E. le Jan\n",
    "\n",
    "------------------------------------------------------------"
   ]
  },
  {
   "cell_type": "markdown",
   "metadata": {},
   "source": [
    "## Le circuit L293D\n",
    "    \n",
    "Le circuit intégré  L293D est un circuit de 4 canaux pouvant délivrer 600mA par canal. Il permet d'alimenter deux moteurs indépendamment. Le circuit L293D a besoin d’une alimentation électrique sur la broche 16 de la puce (tout en haut à droite).\n",
    "\n",
    "Les broches sont numérotées de 1 à 16 avec chacune leur spécificité.\n",
    "* La puce sera alimentée sur la broche 16 en 5V par le RaspberryPi.\n",
    "* L'alimentation externe pour les moteurs sera branchée sur la broche 8\n",
    "* Le premier moteur sera branché sur les broches 11 et 14, le deuxième moteur sur les broches 3 et 6\n",
    "* Les broches 1 et 16 permettent d'activer les canaux 1-2 et 3-4 respectivement\n",
    "* Les broches 4-5 et 12-13 sont reliées à la terre\n",
    "\n",
    "![L293](images/L293D.jpg)\n",
    "![licence : Charles-Henri Eyraud](images/Licence.jpg)\n",
    "\n",
    "[Datasheet du circuit L293D](http://www.ti.com/lit/ds/symlink/l293d.pdf)"
   ]
  },
  {
   "cell_type": "markdown",
   "metadata": {},
   "source": [
    "#  Contrôler un moteur avec le circuit L293D\n",
    "\n",
    "d'après http://electroniqueamateur.blogspot.fr/2014/09/controler-un-moteur-dc-en-python-avec.html\n",
    "\n",
    "![montage](images/RaspberryPi_Moteur_L293D.jpg)\n",
    "![licence : Charles-Henri Eyraud](images/Licence.jpg)"
   ]
  },
  {
   "cell_type": "code",
   "execution_count": 3,
   "metadata": {},
   "outputs": [
    {
     "name": "stdout",
     "output_type": "stream",
     "text": [
      "Le moteur tourne en sens direct à vitesse maximale\n",
      "Le moteur tourne en sens inverse au ralenti\n",
      "Arret du moteur\n"
     ]
    }
   ],
   "source": [
    "import RPi.GPIO as GPIO\n",
    "from time import sleep\n",
    "\n",
    "GPIO.setmode(GPIO.BOARD)\n",
    "## BCM ou BOARD pour identifier les broches. \n",
    "## Choisir BOARD : il s'agit d'une numérotation du GPIO de 1à 40: de gauche à droite et de bas en haut\n",
    "\n",
    "Moteur1A = 22      ## c'est la broche spécifique du RaspberryPi pour le PWM (Pulse Width Modulation)\n",
    "Moteur1B = 16      ## deuxieme sortie de premier moteur, pin 16\n",
    "Moteur1Enable = 12      ## enable du premier moteur, pin 22\n",
    "\n",
    "## Déclaration des trois pins 12,16,22 du Raspberry Pi en sorties\n",
    "GPIO.setup(Moteur1A,GPIO.OUT)  \n",
    "GPIO.setup(Moteur1B,GPIO.OUT)\n",
    "GPIO.setup(Moteur1Enable,GPIO.OUT)\n",
    "\n",
    "pwm = GPIO.PWM(Moteur1E,50)   ## pwm de la pin 22 a une frequence de 50 Hz\n",
    "pwm.start(100)   ## Le rapport cyclique est de 100% (vitesse maximale)\n",
    "\n",
    "\n",
    "print (\"Le moteur tourne en sens direct à vitesse maximale\")\n",
    "GPIO.output(Moteur1A,GPIO.HIGH)\n",
    "GPIO.output(Moteur1B,GPIO.LOW)\n",
    "GPIO.output(Moteur1E,GPIO.HIGH)\n",
    "\n",
    "sleep(5)  ## le moteur 5 secondes avec les paramètres donnés ci-dessus\n",
    "\n",
    "pwm.ChangeDutyCycle(30)  ## modification du rapport cyclique a 30%\n",
    "\n",
    "print (\"Le moteur tourne en sens inverse au ralenti\")\n",
    "GPIO.output(Moteur1A,GPIO.LOW)\n",
    "GPIO.output(Moteur1B,GPIO.HIGH)\n",
    "\n",
    "sleep(5)\n",
    "\n",
    "print (\"Arrêt du moteur\")\n",
    "GPIO.output(Moteur1Enable,GPIO.LOW)\n",
    "\n",
    "pwm.stop()    ## interruption du pwm\n",
    "\n",
    "GPIO.cleanup()"
   ]
  },
  {
   "cell_type": "markdown",
   "metadata": {},
   "source": [
    "#  Contrôler deux moteurs\n",
    "\n",
    "![montage avec 2 moteurs](images/RaspberryPi_2Moteurs_L293D.jpg)\n",
    "![licence : Charles-Henri Eyraud](images/Licence.jpg)\n",
    "![Détail](images/L293DConnexions.jpg)\n",
    "![licence : Charles-Henri Eyraud](images/Licence.jpg)"
   ]
  },
  {
   "cell_type": "code",
   "execution_count": 5,
   "metadata": {},
   "outputs": [
    {
     "name": "stdout",
     "output_type": "stream",
     "text": [
      "Le moteur 1 tourne en sens direct, rapide. Le moteur 2 en sens direct, lent.\n",
      "Le moteur 1 tourne en sens inverse, lent. Le moteur 2 tourne en sens inverse, rapide.\n",
      "Arret des moteurs\n"
     ]
    }
   ],
   "source": [
    "## Contrôle de deux moteurs DC par le Raspberry Pi\n",
    "\n",
    "import RPi.GPIO as GPIO\n",
    "from time import sleep\n",
    "\n",
    "GPIO.setmode(GPIO.BOARD)\n",
    "## BCM ou BOARD pour identifier les broches. \n",
    "## Choisir BOARD : il s'agit d'une numérotation du GPIO de 1à 40: de gauche à droite et de bas en haut\n",
    "\n",
    "Moteur1A = 22      ## c'est la broche spécifique du RaspberryPi pour le PWM (Pulse Width Modulation)\n",
    "Moteur1B = 16      ## deuxieme sortie de premier moteur, pin 16\n",
    "Moteur1Enable = 12      ## Broche d'activation du premier moteur, pin 12\n",
    "\n",
    "Moteur2A = 37      ## premiere sortie du deuxieme moteur, pin 16\n",
    "Moteur2B = 13      ## deuxieme sortie de deuxieme moteur, pin 18\n",
    "Moteur2Enable = 11      ## Broch du deuxieme moteur, pin 1\n",
    "\n",
    "GPIO.setup(Moteur1A,GPIO.OUT)  ## ces 6 pins du Raspberry Pi sont des sorties\n",
    "GPIO.setup(Moteur1B,GPIO.OUT)\n",
    "GPIO.setup(Moteur1Enable,GPIO.OUT)\n",
    "GPIO.setup(Moteur2A,GPIO.OUT) \n",
    "GPIO.setup(Moteur2B,GPIO.OUT)\n",
    "GPIO.setup(Moteur2Enable,GPIO.OUT)\n",
    "\n",
    "pwm1 = GPIO.PWM(Moteur1Enable,50)   ## pwm de la pin 12 a une frequence de 50 Hz\n",
    "pwm1.start(100)   ## rapport cyclique de 100%\n",
    "\n",
    "pwm2 = GPIO.PWM(Moteur2Enable,50)   ## pwm de la pin 11 a une frequence de 50 Hz\n",
    "pwm2.start(30)   ## rapport cyclique de 30%\n",
    "\n",
    "print (\"Le moteur 1 tourne en sens direct, rapide. Le moteur 2 en sens direct, lent.\")\n",
    "\n",
    "GPIO.output(Moteur1A,GPIO.HIGH)\n",
    "GPIO.output(Moteur1B,GPIO.LOW)\n",
    "GPIO.output(Moteur1Enable,GPIO.HIGH)\n",
    "\n",
    "GPIO.output(Moteur2A,GPIO.HIGH)\n",
    "GPIO.output(Moteur2B,GPIO.LOW)\n",
    "GPIO.output(Moteur2Enable,GPIO.HIGH)\n",
    "\n",
    "sleep(5)  ## les moteurs tournent 5 secondes avec les parametres ci-dessus\n",
    "\n",
    "\n",
    "print (\"Le moteur 1 tourne en sens inverse, lent. Le moteur 2 tourne en sens inverse, rapide.\")\n",
    "pwm1.ChangeDutyCycle(30)   ## rapport cyclique de 100%\n",
    "pwm2.ChangeDutyCycle(100)  ## modification du rapport cyclique a 100%\n",
    "\n",
    "GPIO.output(Moteur1A,GPIO.LOW)\n",
    "GPIO.output(Moteur1B,GPIO.HIGH)\n",
    "\n",
    "\n",
    "sleep(5)\n",
    "\n",
    "\n",
    "print (\"Arret des moteurs\")\n",
    "GPIO.output(Moteur1Enable,GPIO.LOW)\n",
    "GPIO.output(Moteur2Enable,GPIO.LOW)\n",
    "\n",
    "pwm1.stop()    ## interruption du pwm\n",
    "pwm2.stop()\n",
    "\n",
    "GPIO.cleanup()"
   ]
  },
  {
   "cell_type": "code",
   "execution_count": null,
   "metadata": {},
   "outputs": [],
   "source": []
  }
 ],
 "metadata": {
  "kernelspec": {
   "display_name": "Python 3",
   "language": "python",
   "name": "python3"
  },
  "language_info": {
   "codemirror_mode": {
    "name": "ipython",
    "version": 3
   },
   "file_extension": ".py",
   "mimetype": "text/x-python",
   "name": "python",
   "nbconvert_exporter": "python",
   "pygments_lexer": "ipython3",
   "version": "3.5.3"
  }
 },
 "nbformat": 4,
 "nbformat_minor": 2
}
